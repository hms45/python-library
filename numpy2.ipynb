{
 "cells": [
  {
   "cell_type": "code",
   "execution_count": 2,
   "id": "eb1d2bb4",
   "metadata": {},
   "outputs": [],
   "source": [
    "import numpy as np"
   ]
  },
  {
   "cell_type": "markdown",
   "id": "2b96337f",
   "metadata": {},
   "source": [
    "### 문자열 포함되면 int형도 문자열 취급"
   ]
  },
  {
   "cell_type": "code",
   "execution_count": 2,
   "id": "fda93c13",
   "metadata": {
    "scrolled": true
   },
   "outputs": [
    {
     "name": "stdout",
     "output_type": "stream",
     "text": [
      "array1 타입 :  <U11\n"
     ]
    }
   ],
   "source": [
    "list1 = [1,2,'test']\n",
    "array1 = np.array(list1)\n",
    "print('array1 타입 : ', array1.dtype)"
   ]
  },
  {
   "cell_type": "markdown",
   "id": "760f1d8c",
   "metadata": {},
   "source": [
    "### float형 포함이면 int형도 float 취급"
   ]
  },
  {
   "cell_type": "code",
   "execution_count": 3,
   "id": "e9a9284a",
   "metadata": {},
   "outputs": [
    {
     "name": "stdout",
     "output_type": "stream",
     "text": [
      "array2 타입 :  float64\n"
     ]
    }
   ],
   "source": [
    "list2 = [1,2,3.0]\n",
    "array2 = np.array(list2)\n",
    "print('array2 타입 : ', array2.dtype)"
   ]
  },
  {
   "cell_type": "markdown",
   "id": "95dc020c",
   "metadata": {},
   "source": [
    "<span style=\"background-color:yellow\">array는 데이터값이 모두 같은 타입</span>"
   ]
  },
  {
   "cell_type": "markdown",
   "id": "43f7360f",
   "metadata": {},
   "source": [
    "### astype : 데이터 타입 변경"
   ]
  },
  {
   "cell_type": "code",
   "execution_count": 4,
   "id": "697ea118",
   "metadata": {
    "scrolled": true
   },
   "outputs": [
    {
     "name": "stdout",
     "output_type": "stream",
     "text": [
      "[1. 2. 3.] float64\n"
     ]
    }
   ],
   "source": [
    "array_int = np.array([1,2,3])\n",
    "array_float = array_int.astype('float64')\n",
    "\n",
    "print(array_float, array_float.dtype)"
   ]
  },
  {
   "cell_type": "markdown",
   "id": "9e8af0f8",
   "metadata": {},
   "source": [
    "<span style=\"background-color:yellow\">float - > int 메모리 절약 가능</span>"
   ]
  },
  {
   "cell_type": "markdown",
   "id": "1651637f",
   "metadata": {},
   "source": [
    "### reshape : 특정 차원, 크기로 변환"
   ]
  },
  {
   "cell_type": "code",
   "execution_count": 19,
   "id": "333b586e",
   "metadata": {},
   "outputs": [
    {
     "name": "stdout",
     "output_type": "stream",
     "text": [
      "array1 : \n",
      " [0 1 2 3 4 5 6 7 8 9] \n",
      "\n",
      "array2 : \n",
      " [[0 1 2 3 4]\n",
      " [5 6 7 8 9]] (2, 5) \n",
      "\n",
      "array3 : \n",
      " [[0 1]\n",
      " [2 3]\n",
      " [4 5]\n",
      " [6 7]\n",
      " [8 9]] (5, 2) \n",
      "\n"
     ]
    }
   ],
   "source": [
    "array1 = np.arange(10)\n",
    "print('array1 : \\n', array1, '\\n')\n",
    "\n",
    "array2 = array1.reshape(2,5)\n",
    "print('array2 : \\n',array2, array2.shape, '\\n')\n",
    "\n",
    "array3 = array1.reshape(5,2)\n",
    "print('array3 : \\n',array3, array3.shape, '\\n')"
   ]
  },
  {
   "cell_type": "code",
   "execution_count": 22,
   "id": "1c745038",
   "metadata": {},
   "outputs": [
    {
     "name": "stdout",
     "output_type": "stream",
     "text": [
      "array4 : \n",
      " [[0 1 2 3 4]\n",
      " [5 6 7 8 9]] (2, 5) \n",
      "\n"
     ]
    }
   ],
   "source": [
    "array4 = array1.reshape(-1,5)\n",
    "print('array4 : \\n',array4, array4.shape, '\\n')"
   ]
  },
  {
   "cell_type": "markdown",
   "id": "52b3c69c",
   "metadata": {},
   "source": [
    "<span style=\"background-color:yellow\">reshape(-1,5)의 -1은 가능한 차원크기로 맞춰줌</span>"
   ]
  },
  {
   "cell_type": "markdown",
   "id": "ccaca78e",
   "metadata": {},
   "source": [
    "### reshape(-1,1) : 3차원을 2차원으로 또는 1차원을 2차원으로 변환"
   ]
  },
  {
   "cell_type": "code",
   "execution_count": 36,
   "id": "f585f3fc",
   "metadata": {},
   "outputs": [
    {
     "name": "stdout",
     "output_type": "stream",
     "text": [
      "array1 : \n",
      " [0, 1, 2, 3, 4, 5, 6, 7] \n",
      "\n",
      "array3d : \n",
      " [[[0 1]\n",
      "  [2 3]]\n",
      "\n",
      " [[4 5]\n",
      "  [6 7]]] \n",
      "\n",
      "array2d : \n",
      " [[0], [1], [2], [3], [4], [5], [6], [7]] \n",
      "\n",
      "array2d2 : \n",
      " [[0], [1], [2], [3], [4], [5], [6], [7]]\n"
     ]
    }
   ],
   "source": [
    "array1 = np.arange(8)\n",
    "print('array1 : \\n', array1.tolist(), '\\n')\n",
    "\n",
    "array3d = array1.reshape(2,2,2)\n",
    "print('array3d : \\n', array3d, '\\n')\n",
    "\n",
    "# 3차원 -> 2차원\n",
    "array2d = array3d.reshape(-1,1)\n",
    "print('array2d : \\n', array2d.tolist(), '\\n')\n",
    "\n",
    "# 1차원 -> 2차원\n",
    "array2d2 = array1.reshape(-1,1)\n",
    "print('array2d2 : \\n', array2d2.tolist())"
   ]
  },
  {
   "cell_type": "markdown",
   "id": "4d9fb883",
   "metadata": {},
   "source": [
    "<span style=\"background-color:yellow\">array1 : 1차원 ---- array2d, array2d2 : 2차원  <br>차이 확인</span>"
   ]
  },
  {
   "cell_type": "markdown",
   "id": "5365a338",
   "metadata": {},
   "source": [
    "### 1차원 인덱싱(indexing)"
   ]
  },
  {
   "cell_type": "code",
   "execution_count": 46,
   "id": "40a4853a",
   "metadata": {
    "scrolled": true
   },
   "outputs": [
    {
     "name": "stdout",
     "output_type": "stream",
     "text": [
      "array1 : \n",
      " [1 2 3 4 5 6 7 8 9] \n",
      "\n",
      "2 9 \n",
      "\n",
      "[1 0 3 4 5 6 7 8 9]\n"
     ]
    }
   ],
   "source": [
    "array1 = np.arange(start=1, stop=10)\n",
    "print('array1 : \\n', array1, '\\n')\n",
    "print(array1[1], array1[-1], '\\n')\n",
    "\n",
    "array1[1] = 0\n",
    "print(array1)"
   ]
  },
  {
   "cell_type": "markdown",
   "id": "81635e11",
   "metadata": {},
   "source": [
    "<span style=\"background-color:yellow\">np.arange(start=1, stop=10) 일 때 1~9 까지</span>"
   ]
  },
  {
   "cell_type": "markdown",
   "id": "172b76a4",
   "metadata": {},
   "source": [
    "### 2차원 인덱싱(indexing)"
   ]
  },
  {
   "cell_type": "code",
   "execution_count": 49,
   "id": "1b1bcf15",
   "metadata": {},
   "outputs": [
    {
     "name": "stdout",
     "output_type": "stream",
     "text": [
      "array2d : \n",
      " [[1 2 3]\n",
      " [4 5 6]\n",
      " [7 8 9]] \n",
      "\n",
      "(row=0, col=0) =  1\n",
      "(row=1, col=0) =  4\n",
      "(row=2, col=0) =  7\n",
      "(row=0, col=1) =  2\n",
      "(row=1, col=1) =  5\n",
      "(row=2, col=1) =  8\n",
      "(row=0, col=2) =  3\n",
      "(row=1, col=2) =  6\n",
      "(row=2, col=2) =  9\n"
     ]
    }
   ],
   "source": [
    "array1 = np.arange(start=1, stop=10)\n",
    "array2d = array1.reshape(3,3)\n",
    "print('array2d : \\n', array2d, '\\n')\n",
    "\n",
    "print('(row=0, col=0) = ', array2d[0,0])\n",
    "print('(row=1, col=0) = ', array2d[1,0])\n",
    "print('(row=2, col=0) = ', array2d[2,0])\n",
    "print('(row=0, col=1) = ', array2d[0,1])\n",
    "print('(row=1, col=1) = ', array2d[1,1])\n",
    "print('(row=2, col=1) = ', array2d[2,1])\n",
    "print('(row=0, col=2) = ', array2d[0,2])\n",
    "print('(row=1, col=2) = ', array2d[1,2])\n",
    "print('(row=2, col=2) = ', array2d[2,2])"
   ]
  },
  {
   "cell_type": "markdown",
   "id": "03927565",
   "metadata": {},
   "source": [
    "<span style=\"background-color:yellow\">(row=0, col=0) == (axis 0=0, axis 1=0)</span><br>\n",
    "<span style=\"background-color:yellow\">(row=2, col=1) == (axis 0=2, axis 1=1)</span>"
   ]
  },
  {
   "cell_type": "markdown",
   "id": "19015041",
   "metadata": {},
   "source": [
    "### 1차원 슬라이싱(slicing)"
   ]
  },
  {
   "cell_type": "code",
   "execution_count": 53,
   "id": "4a3f49da",
   "metadata": {},
   "outputs": [
    {
     "name": "stdout",
     "output_type": "stream",
     "text": [
      "[1 2 3]\n",
      "[4 5 6 7 8 9]\n",
      "[1 2 3 4 5 6 7 8 9]\n"
     ]
    }
   ],
   "source": [
    "array1 = np.arange(start=1, stop=10)\n",
    "print(array1[:3])\n",
    "print(array1[3:])\n",
    "print(array1[:])"
   ]
  },
  {
   "cell_type": "markdown",
   "id": "a269a63b",
   "metadata": {},
   "source": [
    "<span style=\"background-color:yellow\">[:3]은 인덱스번호 0,1,2</span><br>\n",
    "<span style=\"background-color:yellow\">[3:]은 인덱스번호 3,4,5,6,7,8</span>"
   ]
  },
  {
   "cell_type": "markdown",
   "id": "6c7f467b",
   "metadata": {},
   "source": [
    "### 2차원 슬라이싱(slicing)"
   ]
  },
  {
   "cell_type": "code",
   "execution_count": 63,
   "id": "c142e71f",
   "metadata": {
    "scrolled": false
   },
   "outputs": [
    {
     "name": "stdout",
     "output_type": "stream",
     "text": [
      "array2d[1:2, 0:3]: \n",
      " [[4 5 6]] \n",
      "\n",
      "array2d[1:, 2]: \n",
      " [6 9] \n",
      "\n",
      "array2d[1:3, 0:3]: \n",
      " [[4 5 6]\n",
      " [7 8 9]] \n",
      "\n",
      "array2d[:, 0:1]: \n",
      " [[1]\n",
      " [4]\n",
      " [7]] \n",
      "\n",
      "array2d[:, :]: \n",
      " [[1 2 3]\n",
      " [4 5 6]\n",
      " [7 8 9]]\n"
     ]
    }
   ],
   "source": [
    "array1 = np.arange(start=1, stop=10)\n",
    "array2d = array1.reshape(3,3)\n",
    "\n",
    "print('array2d[1:2, 0:3]:', '\\n', array2d[1:2, 0:3], '\\n')\n",
    "print('array2d[1:, 2]:', '\\n', array2d[1:, 2], '\\n')\n",
    "print('array2d[1:3, 0:3]:', '\\n', array2d[1:3, 0:3], '\\n')\n",
    "print('array2d[:, 0:1]:', '\\n', array2d[:, 0:1], '\\n')\n",
    "print('array2d[:, :]:', '\\n', array2d[:, :])"
   ]
  },
  {
   "cell_type": "markdown",
   "id": "ecb946c6",
   "metadata": {},
   "source": [
    "<span style=\"background-color:yellow\">인덱싱, 슬라이싱 모두 0번부터 시작인거 헷갈 ㄴㄴ</span>"
   ]
  },
  {
   "cell_type": "code",
   "execution_count": 7,
   "id": "7466170c",
   "metadata": {
    "scrolled": true
   },
   "outputs": [
    {
     "name": "stdout",
     "output_type": "stream",
     "text": [
      "원본 행렬 : [3 1 7 9] \n",
      "\n",
      "정렬된 행렬 : [1 3 7 9] \n",
      "\n",
      "내림차순 행렬 : [9 7 3 1]\n"
     ]
    }
   ],
   "source": [
    "org_array = np.array([3,1,7,9])\n",
    "print('원본 행렬 :',org_array, '\\n')\n",
    "\n",
    "sort_array = np.sort(org_array)\n",
    "print('정렬된 행렬 :',sort_array, '\\n')\n",
    "\n",
    "sort_desc_array = np.sort(org_array)[::-1]\n",
    "print('내림차순 행렬 :', sort_desc_array)"
   ]
  },
  {
   "cell_type": "markdown",
   "id": "51ffff5a",
   "metadata": {},
   "source": [
    "<span style=\"background-color:yellow\">np.sort() - 오름차순</span><br>\n",
    "<span style=\"background-color:yellow\">np.sort().[::-1] - 내림차순</span>"
   ]
  },
  {
   "cell_type": "code",
   "execution_count": 11,
   "id": "28079971",
   "metadata": {},
   "outputs": [
    {
     "name": "stdout",
     "output_type": "stream",
     "text": [
      "<class 'numpy.ndarray'>\n",
      "행렬 정렬 시 원본 행렬의 인덱스 : [1 0 3 2]\n"
     ]
    }
   ],
   "source": [
    "org_array = np.array([3,1,9,5])\n",
    "sort_indices = np.argsort(org_array)\n",
    "print(type(sort_indices))\n",
    "print('행렬 정렬 시 원본 행렬의 인덱스 :', sort_indices)"
   ]
  },
  {
   "cell_type": "markdown",
   "id": "ec9cf483",
   "metadata": {},
   "source": [
    "<span style=\"background-color:yellow\">np.argsort() - 원본 행렬의 인덱스</span><br>\n",
    "<span style=\"background-color:yellow\">[::1] - 내림차순도 가능</span>"
   ]
  },
  {
   "cell_type": "code",
   "execution_count": 14,
   "id": "432b7fdb",
   "metadata": {},
   "outputs": [
    {
     "name": "stdout",
     "output_type": "stream",
     "text": [
      "행렬 내적 :\n",
      " [[ 58  64]\n",
      " [139 154]]\n"
     ]
    }
   ],
   "source": [
    "A = np.array([[1,2,3],\n",
    "              [4,5,6]])\n",
    "\n",
    "B = np.array([[7,8],\n",
    "              [9,10],\n",
    "              [11,12]])\n",
    "dot_d = np.dot(A,B)\n",
    "print('행렬 내적 :\\n',dot_d)"
   ]
  },
  {
   "cell_type": "markdown",
   "id": "97e8fcbd",
   "metadata": {},
   "source": [
    "<span style=\"background-color:yellow\">3x2 2x3 행렬의 내적은 1열*1행 순으로 2x2 내적 행렬 나옴,</span>"
   ]
  },
  {
   "cell_type": "code",
   "execution_count": 16,
   "id": "d0eb09f8",
   "metadata": {},
   "outputs": [
    {
     "name": "stdout",
     "output_type": "stream",
     "text": [
      "A의 전치 행렬 :\n",
      " [[1 3]\n",
      " [2 4]]\n"
     ]
    }
   ],
   "source": [
    "A = np.array([[1,2],\n",
    "              [3,4]])\n",
    "transpose_mat = np.transpose(A)\n",
    "print('A의 전치 행렬 :\\n', transpose_mat)"
   ]
  },
  {
   "cell_type": "markdown",
   "id": "30ad31db",
   "metadata": {},
   "source": [
    "<span style=\"background-color:yellow\">전치행렬 - 행과 열 자리 바꾸기</span>"
   ]
  }
 ],
 "metadata": {
  "kernelspec": {
   "display_name": "Python 3 (ipykernel)",
   "language": "python",
   "name": "python3"
  },
  "language_info": {
   "codemirror_mode": {
    "name": "ipython",
    "version": 3
   },
   "file_extension": ".py",
   "mimetype": "text/x-python",
   "name": "python",
   "nbconvert_exporter": "python",
   "pygments_lexer": "ipython3",
   "version": "3.9.7"
  }
 },
 "nbformat": 4,
 "nbformat_minor": 5
}
